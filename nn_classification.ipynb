{
  "nbformat": 4,
  "nbformat_minor": 0,
  "metadata": {
    "colab": {
      "name": "nn_classification.ipynb",
      "version": "0.3.2",
      "provenance": [],
      "include_colab_link": true
    },
    "kernelspec": {
      "name": "python3",
      "display_name": "Python 3"
    }
  },
  "cells": [
    {
      "cell_type": "markdown",
      "metadata": {
        "id": "view-in-github",
        "colab_type": "text"
      },
      "source": [
        "<a href=\"https://colab.research.google.com/github/yamato7503/DeepLerarning/blob/master/nn_classification.ipynb\" target=\"_parent\"><img src=\"https://colab.research.google.com/assets/colab-badge.svg\" alt=\"Open In Colab\"/></a>"
      ]
    },
    {
      "metadata": {
        "id": "VmexSAwn68Ew",
        "colab_type": "code",
        "colab": {}
      },
      "cell_type": "code",
      "source": [
        "import numpy as np\n",
        "import matplotlib.pyplot as plt\n",
        "\n",
        "# x、y座標\n",
        "X = np.arange(-1.0, 1.0, 0.1) # 要素数は２０個\n",
        "Y = np.arange(-1.0, 1.0, 0.1)\n",
        "\n",
        "# 重み\n",
        "w_im = np.array([[1.0,2.0],\n",
        "                 [2.0,3.0]]) # 中間層　２×２の行列\n",
        "w_mo = np.array([[-1.0,1.0],\n",
        "                 [1.0,-1.0]]) # 出力層　２×２の行列\n",
        "\n",
        "# バイアス\n",
        "b_im = np.array([3.0,-3.0]) # 中間層\n",
        "b_mo = np.array([0.4,0.1]) # 出力層\n",
        "\n",
        "# 中間層\n",
        "def middle_layer(x, w, b):\n",
        "    u = np.dot(x, w) + b\n",
        "    return 1/(1+np.exp(-u)) # シグモイド関数\n",
        "\n",
        "# 出力層\n",
        "def output_layer(x, w, b):\n",
        "    u = np.dot(x, w) + b\n",
        "    return np.exp(u)/np.sum(np.exp(u))  # ソフトマックス関数\n",
        "  \n",
        "# 分類を格納するリスト\n",
        "x_1 = []\n",
        "y_1 = []\n",
        "x_2 = []\n",
        "y_2 = []\n",
        "\n",
        "\n",
        "\n",
        "\n"
      ],
      "execution_count": 0,
      "outputs": []
    }
  ]
}