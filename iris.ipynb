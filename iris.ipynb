{
 "cells": [
  {
   "cell_type": "code",
   "execution_count": 75,
   "metadata": {},
   "outputs": [],
   "source": [
    "from sklearn import datasets\n",
    "iris = datasets.load_iris()"
   ]
  },
  {
   "cell_type": "code",
   "execution_count": 78,
   "metadata": {},
   "outputs": [],
   "source": [
    "from sklearn.model_selection import train_test_split as split\n",
    "X_train,X_test,y_train,y_test=split(iris.data,iris.target,train_size=0.8)"
   ]
  },
  {
   "cell_type": "code",
   "execution_count": 79,
   "metadata": {},
   "outputs": [],
   "source": [
    "import tensorflow as tf\n",
    "import keras\n",
    "from keras.layers import Dense,Activation"
   ]
  },
  {
   "cell_type": "code",
   "execution_count": 80,
   "metadata": {},
   "outputs": [],
   "source": [
    "model = keras.models.Sequential()\n",
    "model.add(Dense(units=32,input_dim=4))\n",
    "model.add(Activation('relu'))\n",
    "model.add(Dense(units=3))\n",
    "model.add(Activation('softmax'))"
   ]
  },
  {
   "cell_type": "code",
   "execution_count": 81,
   "metadata": {},
   "outputs": [],
   "source": [
    "model.compile(loss='sparse_categorical_crossentropy',optimizer='sgd',metrics=['accuracy'])"
   ]
  },
  {
   "cell_type": "code",
   "execution_count": 91,
   "metadata": {},
   "outputs": [
    {
     "name": "stdout",
     "output_type": "stream",
     "text": [
      "Epoch 1/100\n",
      "120/120 [==============================] - 0s 95us/step - loss: 0.0732 - acc: 0.9750\n",
      "Epoch 2/100\n",
      "120/120 [==============================] - 0s 110us/step - loss: 0.0724 - acc: 0.9750\n",
      "Epoch 3/100\n",
      "120/120 [==============================] - 0s 124us/step - loss: 0.0681 - acc: 0.9750\n",
      "Epoch 4/100\n",
      "120/120 [==============================] - 0s 111us/step - loss: 0.0680 - acc: 0.9750\n",
      "Epoch 5/100\n",
      "120/120 [==============================] - 0s 96us/step - loss: 0.0710 - acc: 0.9750\n",
      "Epoch 6/100\n",
      "120/120 [==============================] - 0s 115us/step - loss: 0.0669 - acc: 0.9750\n",
      "Epoch 7/100\n",
      "120/120 [==============================] - 0s 79us/step - loss: 0.0687 - acc: 0.9750\n",
      "Epoch 8/100\n",
      "120/120 [==============================] - 0s 92us/step - loss: 0.0679 - acc: 0.9750\n",
      "Epoch 9/100\n",
      "120/120 [==============================] - 0s 112us/step - loss: 0.0693 - acc: 0.9750\n",
      "Epoch 10/100\n",
      "120/120 [==============================] - 0s 92us/step - loss: 0.0699 - acc: 0.9750\n",
      "Epoch 11/100\n",
      "120/120 [==============================] - 0s 93us/step - loss: 0.0670 - acc: 0.9750\n",
      "Epoch 12/100\n",
      "120/120 [==============================] - 0s 95us/step - loss: 0.0706 - acc: 0.9750\n",
      "Epoch 13/100\n",
      "120/120 [==============================] - 0s 96us/step - loss: 0.0741 - acc: 0.9750\n",
      "Epoch 14/100\n",
      "120/120 [==============================] - 0s 111us/step - loss: 0.0708 - acc: 0.9750\n",
      "Epoch 15/100\n",
      "120/120 [==============================] - 0s 81us/step - loss: 0.0677 - acc: 0.9750\n",
      "Epoch 16/100\n",
      "120/120 [==============================] - 0s 92us/step - loss: 0.0704 - acc: 0.9750\n",
      "Epoch 17/100\n",
      "120/120 [==============================] - 0s 95us/step - loss: 0.0707 - acc: 0.9750\n",
      "Epoch 18/100\n",
      "120/120 [==============================] - 0s 98us/step - loss: 0.0696 - acc: 0.9750\n",
      "Epoch 19/100\n",
      "120/120 [==============================] - 0s 98us/step - loss: 0.0729 - acc: 0.9667\n",
      "Epoch 20/100\n",
      "120/120 [==============================] - 0s 93us/step - loss: 0.0680 - acc: 0.9750\n",
      "Epoch 21/100\n",
      "120/120 [==============================] - 0s 100us/step - loss: 0.0685 - acc: 0.9750\n",
      "Epoch 22/100\n",
      "120/120 [==============================] - 0s 105us/step - loss: 0.0683 - acc: 0.9750\n",
      "Epoch 23/100\n",
      "120/120 [==============================] - 0s 109us/step - loss: 0.0761 - acc: 0.9667\n",
      "Epoch 24/100\n",
      "120/120 [==============================] - 0s 262us/step - loss: 0.0686 - acc: 0.9750\n",
      "Epoch 25/100\n",
      "120/120 [==============================] - 0s 136us/step - loss: 0.0674 - acc: 0.9750\n",
      "Epoch 26/100\n",
      "120/120 [==============================] - 0s 91us/step - loss: 0.0669 - acc: 0.9750\n",
      "Epoch 27/100\n",
      "120/120 [==============================] - 0s 103us/step - loss: 0.0681 - acc: 0.9750\n",
      "Epoch 28/100\n",
      "120/120 [==============================] - 0s 90us/step - loss: 0.0672 - acc: 0.9750\n",
      "Epoch 29/100\n",
      "120/120 [==============================] - 0s 114us/step - loss: 0.0675 - acc: 0.9750\n",
      "Epoch 30/100\n",
      "120/120 [==============================] - 0s 90us/step - loss: 0.0678 - acc: 0.9750\n",
      "Epoch 31/100\n",
      "120/120 [==============================] - 0s 90us/step - loss: 0.0689 - acc: 0.9750\n",
      "Epoch 32/100\n",
      "120/120 [==============================] - 0s 93us/step - loss: 0.0691 - acc: 0.9750\n",
      "Epoch 33/100\n",
      "120/120 [==============================] - 0s 90us/step - loss: 0.0707 - acc: 0.9750\n",
      "Epoch 34/100\n",
      "120/120 [==============================] - 0s 90us/step - loss: 0.0678 - acc: 0.9750\n",
      "Epoch 35/100\n",
      "120/120 [==============================] - 0s 107us/step - loss: 0.0697 - acc: 0.9750\n",
      "Epoch 36/100\n",
      "120/120 [==============================] - 0s 108us/step - loss: 0.0696 - acc: 0.9750\n",
      "Epoch 37/100\n",
      "120/120 [==============================] - 0s 104us/step - loss: 0.0680 - acc: 0.9750\n",
      "Epoch 38/100\n",
      "120/120 [==============================] - 0s 101us/step - loss: 0.0750 - acc: 0.9750\n",
      "Epoch 39/100\n",
      "120/120 [==============================] - 0s 82us/step - loss: 0.0685 - acc: 0.9667\n",
      "Epoch 40/100\n",
      "120/120 [==============================] - 0s 92us/step - loss: 0.0715 - acc: 0.9750\n",
      "Epoch 41/100\n",
      "120/120 [==============================] - 0s 103us/step - loss: 0.0677 - acc: 0.9750\n",
      "Epoch 42/100\n",
      "120/120 [==============================] - 0s 96us/step - loss: 0.0716 - acc: 0.9750\n",
      "Epoch 43/100\n",
      "120/120 [==============================] - 0s 120us/step - loss: 0.0681 - acc: 0.9750\n",
      "Epoch 44/100\n",
      "120/120 [==============================] - 0s 79us/step - loss: 0.0679 - acc: 0.9750\n",
      "Epoch 45/100\n",
      "120/120 [==============================] - 0s 102us/step - loss: 0.0698 - acc: 0.9750\n",
      "Epoch 46/100\n",
      "120/120 [==============================] - 0s 96us/step - loss: 0.0700 - acc: 0.9750\n",
      "Epoch 47/100\n",
      "120/120 [==============================] - 0s 84us/step - loss: 0.0666 - acc: 0.9750\n",
      "Epoch 48/100\n",
      "120/120 [==============================] - 0s 92us/step - loss: 0.0707 - acc: 0.9667\n",
      "Epoch 49/100\n",
      "120/120 [==============================] - 0s 93us/step - loss: 0.0671 - acc: 0.9750\n",
      "Epoch 50/100\n",
      "120/120 [==============================] - 0s 98us/step - loss: 0.0748 - acc: 0.9750\n",
      "Epoch 51/100\n",
      "120/120 [==============================] - 0s 96us/step - loss: 0.0743 - acc: 0.9750\n",
      "Epoch 52/100\n",
      "120/120 [==============================] - 0s 97us/step - loss: 0.0719 - acc: 0.9750\n",
      "Epoch 53/100\n",
      "120/120 [==============================] - 0s 107us/step - loss: 0.0674 - acc: 0.9750\n",
      "Epoch 54/100\n",
      "120/120 [==============================] - 0s 97us/step - loss: 0.0677 - acc: 0.9750\n",
      "Epoch 55/100\n",
      "120/120 [==============================] - 0s 80us/step - loss: 0.0700 - acc: 0.9750\n",
      "Epoch 56/100\n",
      "120/120 [==============================] - 0s 105us/step - loss: 0.0667 - acc: 0.9750\n",
      "Epoch 57/100\n",
      "120/120 [==============================] - 0s 101us/step - loss: 0.0680 - acc: 0.9750\n",
      "Epoch 58/100\n",
      "120/120 [==============================] - 0s 106us/step - loss: 0.0675 - acc: 0.9750\n",
      "Epoch 59/100\n",
      "120/120 [==============================] - 0s 98us/step - loss: 0.0671 - acc: 0.9750\n",
      "Epoch 60/100\n",
      "120/120 [==============================] - 0s 85us/step - loss: 0.0690 - acc: 0.9750\n",
      "Epoch 61/100\n",
      "120/120 [==============================] - 0s 103us/step - loss: 0.0698 - acc: 0.9750\n",
      "Epoch 62/100\n",
      "120/120 [==============================] - 0s 106us/step - loss: 0.0737 - acc: 0.9750\n",
      "Epoch 63/100\n",
      "120/120 [==============================] - 0s 103us/step - loss: 0.0662 - acc: 0.9750\n",
      "Epoch 64/100\n",
      "120/120 [==============================] - 0s 83us/step - loss: 0.0718 - acc: 0.9750\n",
      "Epoch 65/100\n",
      "120/120 [==============================] - 0s 94us/step - loss: 0.0717 - acc: 0.9750\n",
      "Epoch 66/100\n",
      "120/120 [==============================] - 0s 98us/step - loss: 0.0667 - acc: 0.9750\n",
      "Epoch 67/100\n",
      "120/120 [==============================] - 0s 99us/step - loss: 0.0680 - acc: 0.9750\n",
      "Epoch 68/100\n",
      "120/120 [==============================] - 0s 107us/step - loss: 0.0667 - acc: 0.9750\n",
      "Epoch 69/100\n",
      "120/120 [==============================] - 0s 104us/step - loss: 0.0722 - acc: 0.9750\n",
      "Epoch 70/100\n",
      "120/120 [==============================] - 0s 92us/step - loss: 0.0786 - acc: 0.9667\n",
      "Epoch 71/100\n",
      "120/120 [==============================] - 0s 108us/step - loss: 0.0706 - acc: 0.9750\n",
      "Epoch 72/100\n",
      "120/120 [==============================] - 0s 81us/step - loss: 0.0735 - acc: 0.9750\n",
      "Epoch 73/100\n",
      "120/120 [==============================] - 0s 98us/step - loss: 0.0684 - acc: 0.9750\n",
      "Epoch 74/100\n",
      "120/120 [==============================] - 0s 105us/step - loss: 0.0680 - acc: 0.9750\n",
      "Epoch 75/100\n",
      "120/120 [==============================] - 0s 102us/step - loss: 0.0673 - acc: 0.9750\n",
      "Epoch 76/100\n",
      "120/120 [==============================] - 0s 96us/step - loss: 0.0663 - acc: 0.9750\n",
      "Epoch 77/100\n",
      "120/120 [==============================] - 0s 100us/step - loss: 0.0677 - acc: 0.9750\n",
      "Epoch 78/100\n",
      "120/120 [==============================] - 0s 105us/step - loss: 0.0687 - acc: 0.9750\n",
      "Epoch 79/100\n",
      "120/120 [==============================] - 0s 98us/step - loss: 0.0673 - acc: 0.9750\n",
      "Epoch 80/100\n",
      "120/120 [==============================] - 0s 106us/step - loss: 0.0669 - acc: 0.9750\n",
      "Epoch 81/100\n",
      "120/120 [==============================] - 0s 97us/step - loss: 0.0674 - acc: 0.9750\n",
      "Epoch 82/100\n",
      "120/120 [==============================] - 0s 93us/step - loss: 0.0675 - acc: 0.9750\n",
      "Epoch 83/100\n",
      "120/120 [==============================] - 0s 96us/step - loss: 0.0705 - acc: 0.9750\n",
      "Epoch 84/100\n"
     ]
    },
    {
     "name": "stdout",
     "output_type": "stream",
     "text": [
      "120/120 [==============================] - 0s 99us/step - loss: 0.0730 - acc: 0.9750\n",
      "Epoch 85/100\n",
      "120/120 [==============================] - 0s 88us/step - loss: 0.0694 - acc: 0.9750\n",
      "Epoch 86/100\n",
      "120/120 [==============================] - 0s 98us/step - loss: 0.0683 - acc: 0.9750\n",
      "Epoch 87/100\n",
      "120/120 [==============================] - 0s 101us/step - loss: 0.0669 - acc: 0.9750\n",
      "Epoch 88/100\n",
      "120/120 [==============================] - 0s 73us/step - loss: 0.0680 - acc: 0.9750\n",
      "Epoch 89/100\n",
      "120/120 [==============================] - 0s 101us/step - loss: 0.0749 - acc: 0.9667\n",
      "Epoch 90/100\n",
      "120/120 [==============================] - 0s 95us/step - loss: 0.0671 - acc: 0.9750\n",
      "Epoch 91/100\n",
      "120/120 [==============================] - 0s 77us/step - loss: 0.0714 - acc: 0.9750\n",
      "Epoch 92/100\n",
      "120/120 [==============================] - 0s 96us/step - loss: 0.0691 - acc: 0.9750\n",
      "Epoch 93/100\n",
      "120/120 [==============================] - 0s 98us/step - loss: 0.0711 - acc: 0.9750\n",
      "Epoch 94/100\n",
      "120/120 [==============================] - 0s 98us/step - loss: 0.0692 - acc: 0.9750\n",
      "Epoch 95/100\n",
      "120/120 [==============================] - 0s 89us/step - loss: 0.0712 - acc: 0.9750\n",
      "Epoch 96/100\n",
      "120/120 [==============================] - 0s 95us/step - loss: 0.0672 - acc: 0.9750\n",
      "Epoch 97/100\n",
      "120/120 [==============================] - 0s 94us/step - loss: 0.0673 - acc: 0.9750\n",
      "Epoch 98/100\n",
      "120/120 [==============================] - 0s 85us/step - loss: 0.0702 - acc: 0.9750\n",
      "Epoch 99/100\n",
      "120/120 [==============================] - 0s 83us/step - loss: 0.0678 - acc: 0.9750\n",
      "Epoch 100/100\n",
      "120/120 [==============================] - 0s 98us/step - loss: 0.0690 - acc: 0.9750\n"
     ]
    },
    {
     "data": {
      "text/plain": [
       "<keras.callbacks.History at 0x1a3e517f28>"
      ]
     },
     "execution_count": 91,
     "metadata": {},
     "output_type": "execute_result"
    }
   ],
   "source": [
    "model.fit(X_train,y_train,epochs=100)"
   ]
  },
  {
   "cell_type": "code",
   "execution_count": 92,
   "metadata": {},
   "outputs": [
    {
     "name": "stdout",
     "output_type": "stream",
     "text": [
      "30/30 [==============================] - 0s 1ms/step\n"
     ]
    }
   ],
   "source": [
    "score=model.evaluate(X_test,y_test,batch_size=1)"
   ]
  },
  {
   "cell_type": "code",
   "execution_count": 93,
   "metadata": {},
   "outputs": [
    {
     "name": "stdout",
     "output_type": "stream",
     "text": [
      "1.0\n"
     ]
    }
   ],
   "source": [
    "print(score[1])"
   ]
  },
  {
   "cell_type": "code",
   "execution_count": 99,
   "metadata": {},
   "outputs": [
    {
     "name": "stdout",
     "output_type": "stream",
     "text": [
      "[[9.5338452e-01 4.6615552e-02 1.0433209e-10]]\n"
     ]
    }
   ],
   "source": [
    "import numpy as np\n",
    "x = np.array([[5.1,5.5,4.6,0.2]])\n",
    "r= model.predict(x)\n",
    "print(r)"
   ]
  },
  {
   "cell_type": "code",
   "execution_count": 100,
   "metadata": {},
   "outputs": [
    {
     "data": {
      "text/plain": [
       "0"
      ]
     },
     "execution_count": 100,
     "metadata": {},
     "output_type": "execute_result"
    }
   ],
   "source": [
    "r.argmax()"
   ]
  },
  {
   "cell_type": "code",
   "execution_count": 101,
   "metadata": {},
   "outputs": [],
   "source": [
    "#json_string = model.to_json()"
   ]
  },
  {
   "cell_type": "code",
   "execution_count": 102,
   "metadata": {},
   "outputs": [
    {
     "data": {
      "text/plain": [
       "'{\"class_name\": \"Sequential\", \"config\": {\"name\": \"sequential_8\", \"layers\": [{\"class_name\": \"Dense\", \"config\": {\"name\": \"dense_12\", \"trainable\": true, \"batch_input_shape\": [null, 4], \"dtype\": \"float32\", \"units\": 32, \"activation\": \"linear\", \"use_bias\": true, \"kernel_initializer\": {\"class_name\": \"VarianceScaling\", \"config\": {\"scale\": 1.0, \"mode\": \"fan_avg\", \"distribution\": \"uniform\", \"seed\": null}}, \"bias_initializer\": {\"class_name\": \"Zeros\", \"config\": {}}, \"kernel_regularizer\": null, \"bias_regularizer\": null, \"activity_regularizer\": null, \"kernel_constraint\": null, \"bias_constraint\": null}}, {\"class_name\": \"Activation\", \"config\": {\"name\": \"activation_10\", \"trainable\": true, \"activation\": \"relu\"}}, {\"class_name\": \"Dense\", \"config\": {\"name\": \"dense_13\", \"trainable\": true, \"units\": 3, \"activation\": \"linear\", \"use_bias\": true, \"kernel_initializer\": {\"class_name\": \"VarianceScaling\", \"config\": {\"scale\": 1.0, \"mode\": \"fan_avg\", \"distribution\": \"uniform\", \"seed\": null}}, \"bias_initializer\": {\"class_name\": \"Zeros\", \"config\": {}}, \"kernel_regularizer\": null, \"bias_regularizer\": null, \"activity_regularizer\": null, \"kernel_constraint\": null, \"bias_constraint\": null}}, {\"class_name\": \"Activation\", \"config\": {\"name\": \"activation_11\", \"trainable\": true, \"activation\": \"softmax\"}}]}, \"keras_version\": \"2.2.4\", \"backend\": \"tensorflow\"}'"
      ]
     },
     "execution_count": 102,
     "metadata": {},
     "output_type": "execute_result"
    }
   ],
   "source": [
    "#json_string"
   ]
  },
  {
   "cell_type": "code",
   "execution_count": 103,
   "metadata": {},
   "outputs": [],
   "source": [
    "from keras.models import model_from_json\n",
    "model = model_from_json(json_string)"
   ]
  },
  {
   "cell_type": "code",
   "execution_count": 104,
   "metadata": {},
   "outputs": [
    {
     "data": {
      "text/plain": [
       "<keras.engine.sequential.Sequential at 0x1a3e9869b0>"
      ]
     },
     "execution_count": 104,
     "metadata": {},
     "output_type": "execute_result"
    }
   ],
   "source": [
    "model"
   ]
  },
  {
   "cell_type": "code",
   "execution_count": null,
   "metadata": {},
   "outputs": [],
   "source": []
  }
 ],
 "metadata": {
  "kernelspec": {
   "display_name": "Python 3",
   "language": "python",
   "name": "python3"
  },
  "language_info": {
   "codemirror_mode": {
    "name": "ipython",
    "version": 3
   },
   "file_extension": ".py",
   "mimetype": "text/x-python",
   "name": "python",
   "nbconvert_exporter": "python",
   "pygments_lexer": "ipython3",
   "version": "3.6.6"
  }
 },
 "nbformat": 4,
 "nbformat_minor": 2
}
