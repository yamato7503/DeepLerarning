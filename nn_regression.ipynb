{
  "nbformat": 4,
  "nbformat_minor": 0,
  "metadata": {
    "colab": {
      "name": "nn_regression.ipynb",
      "version": "0.3.2",
      "provenance": [],
      "include_colab_link": true
    },
    "kernelspec": {
      "name": "python3",
      "display_name": "Python 3"
    }
  },
  "cells": [
    {
      "cell_type": "markdown",
      "metadata": {
        "id": "view-in-github",
        "colab_type": "text"
      },
      "source": [
        "<a href=\"https://colab.research.google.com/github/yamato7503/DeepLerarning/blob/master/nn_regression.ipynb\" target=\"_parent\"><img src=\"https://colab.research.google.com/assets/colab-badge.svg\" alt=\"Open In Colab\"/></a>"
      ]
    },
    {
      "metadata": {
        "id": "Wmv9A8QDeOh2",
        "colab_type": "code",
        "colab": {
          "base_uri": "https://localhost:8080/",
          "height": 269
        },
        "outputId": "09fb0785-f43c-4a6b-c882-23c5b785a6a8"
      },
      "cell_type": "code",
      "source": [
        "%matplotlib inline\n",
        "import numpy as np\n",
        "import matplotlib.pyplot as plt\n",
        "\n",
        "\n",
        "X = np.arange(-1.0, 1.0, 0.2)\n",
        "Y = np.arange(-1.0, 1.0, 0.2)\n",
        "\n",
        "Z = np.zeros((10,10))\n",
        "\n",
        "# 重み\n",
        "w_im = np.array([[4.0,4.0],\n",
        "                 [4.0,4.0]])\n",
        "w_mo = np.array([[1.0],\n",
        "                 [-1.0]])\n",
        "\n",
        "# バイアス\n",
        "\n",
        "\n",
        "b_im = np.array([3.0,-3.0])\n",
        "b_mo = np.array([0.1])\n",
        "\n",
        "# 中間層\n",
        "\n",
        "def middle_layer(x, w, b):\n",
        "  \n",
        "    u = np.dot(x, w) + b\n",
        "  \n",
        "    return 1/(1 + np.exp(-u))  # シグモイド関数\n",
        "\n",
        "            \n",
        "# 出力層\n",
        "              \n",
        "def output_layer(x, w, b):\n",
        "            \n",
        "            \n",
        "    u = np.dot(x, w) + b\n",
        "  \n",
        "    return u\n",
        "            \n",
        "for i in range(10):\n",
        "    for j in range(10):\n",
        "              \n",
        "            # 順伝播\n",
        "        inp = np.array([X[i],Y[j]])\n",
        "        mid = middle_layer(inp, w_im, b_im)\n",
        "        out = output_layer(mid, w_mo, b_mo)\n",
        "            \n",
        "        Z[j][i] = out[0]\n",
        "            \n",
        "plt.imshow(Z, \"gray\", vmin = 0.0, vmax = 1.0)\n",
        "plt.colorbar()\n",
        "plt.show()\n",
        "    \n",
        "    \n",
        "            \n",
        "\n",
        "           \n",
        "    "
      ],
      "execution_count": 17,
      "outputs": [
        {
          "output_type": "display_data",
          "data": {
            "image/png": "[encoded data removed]",
            "text/plain": [
              "<matplotlib.figure.Figure at 0x7f60eeb58ba8>"
            ]
          },
          "metadata": {
            "tags": []
          }
        }
      ]
    },
    {
      "metadata": {
        "id": "tAi7CKf0eOrg",
        "colab_type": "code",
        "colab": {}
      },
      "cell_type": "code",
      "source": [
        ""
      ],
      "execution_count": 0,
      "outputs": []
    },
    {
      "metadata": {
        "id": "WvbPU1o6eOun",
        "colab_type": "code",
        "colab": {}
      },
      "cell_type": "code",
      "source": [
        ""
      ],
      "execution_count": 0,
      "outputs": []
    },
    {
      "metadata": {
        "id": "U3TWwyYOdvwy",
        "colab_type": "code",
        "colab": {}
      },
      "cell_type": "code",
      "source": [
        ""
      ],
      "execution_count": 0,
      "outputs": []
    }
  ]
}